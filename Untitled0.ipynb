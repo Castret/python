{
  "nbformat": 4,
  "nbformat_minor": 0,
  "metadata": {
    "colab": {
      "provenance": [],
      "authorship_tag": "ABX9TyMsWbKtZCOxw4xVN+MJ9RME",
      "include_colab_link": true
    },
    "kernelspec": {
      "name": "python3",
      "display_name": "Python 3"
    },
    "language_info": {
      "name": "python"
    }
  },
  "cells": [
    {
      "cell_type": "markdown",
      "metadata": {
        "id": "view-in-github",
        "colab_type": "text"
      },
      "source": [
        "<a href=\"https://colab.research.google.com/github/Castret/python/blob/main/Untitled0.ipynb\" target=\"_parent\"><img src=\"https://colab.research.google.com/assets/colab-badge.svg\" alt=\"Open In Colab\"/></a>"
      ]
    },
    {
      "cell_type": "code",
      "execution_count": null,
      "metadata": {
        "id": "UzIxyNPTdPUB",
        "colab": {
          "base_uri": "https://localhost:8080/"
        },
        "outputId": "c418bd05-be8d-4d03-b2a7-7846159e01e6"
      },
      "outputs": [
        {
          "output_type": "stream",
          "name": "stdout",
          "text": [
            "[2, 4, 6, 8, 10]\n",
            "[4, 16, 36, 64, 100]\n",
            "[1, 3, 5, 7, 9]\n",
            "[1, 9, 25, 49, 81]\n"
          ]
        }
      ],
      "source": [
        "#q1\n",
        "a=[1,2,3,4,5,6,7,8,9,10]\n",
        "b=[]\n",
        "c=[]\n",
        "d=[]\n",
        "e=[]\n",
        "for i in a:\n",
        "  if i%2==0:\n",
        "    b.append(i)\n",
        "    c.append(i*i)\n",
        "  elif i%2!=0:\n",
        "    d.append(i)\n",
        "    e.append(i*i)\n",
        "print(b)\n",
        "print(c)\n",
        "print(d)\n",
        "print(e)"
      ]
    },
    {
      "cell_type": "code",
      "source": [
        "def find_max_min(numbers):\n",
        "    if len(numbers) == 0:\n",
        "        return None, None\n",
        "    max_num = numbers[0]\n",
        "    min_num = numbers[0]\n",
        "    for num in numbers:\n",
        "        if num > max_num:\n",
        "            max_num = num\n",
        "        elif num < min_num:\n",
        "            min_num = num\n",
        "    return max_num, min_num\n",
        "\n",
        "numbers = [10, 5, 20, 15, 25, 36]\n",
        "max_num, min_num = find_max_min(numbers)\n",
        "print(\"The largest number is:\", max_num)\n",
        "print(\"The smallest number is:\", min_num)\n",
        "\n"
      ],
      "metadata": {
        "colab": {
          "base_uri": "https://localhost:8080/"
        },
        "id": "h5J075e5eiAu",
        "outputId": "1a1a7f6f-dc5e-4d4d-c665-4c2fd7814c7d"
      },
      "execution_count": null,
      "outputs": [
        {
          "output_type": "stream",
          "name": "stdout",
          "text": [
            "The largest number is: 36\n",
            "The smallest number is: 5\n"
          ]
        }
      ]
    },
    {
      "cell_type": "code",
      "source": [
        "def find_second_max_min(numbers):\n",
        "    if len(numbers) < 2:\n",
        "        return None, None\n",
        "    max_num = min_num = float('-inf')\n",
        "    second_max = second_min = float('inf')\n",
        "    for num in numbers:\n",
        "        if num > max_num:\n",
        "            second_max = max_num\n",
        "            max_num = num\n",
        "        elif num > second_max and num != max_num:\n",
        "            second_max = num\n",
        "        if num < min_num:\n",
        "            second_min = min_num\n",
        "            min_num = num\n",
        "        elif num < second_min and num != min_num:\n",
        "            second_min = num\n",
        "    return second_max, second_min\n",
        "\n",
        "numbers = [10, 5, 20, 15, 25, 30]\n",
        "second_max, second_min = find_second_max_min(numbers)\n",
        "print(\"The second largest number is:\", second_max)\n",
        "print(\"The second smallest number is:\", second_min)\n"
      ],
      "metadata": {
        "colab": {
          "base_uri": "https://localhost:8080/"
        },
        "id": "QjuaGoeRfDuQ",
        "outputId": "3fc3b25c-1b1e-400c-fd27-139c137ecca5"
      },
      "execution_count": null,
      "outputs": [
        {
          "output_type": "stream",
          "name": "stdout",
          "text": [
            "The second largest number is: 25\n",
            "The second smallest number is: 5\n"
          ]
        }
      ]
    },
    {
      "cell_type": "code",
      "source": [
        "\n",
        "def ascending_sort(numbers):\n",
        "    for i in range(len(numbers)):\n",
        "        for j in range(i + 1, len(numbers)):\n",
        "            if numbers[i] > numbers[j]:\n",
        "                numbers[i], numbers[j] = numbers[j], numbers[i]\n",
        "    return numbers\n",
        "\n",
        "def descending_sort(numbers):\n",
        "    for i in range(len(numbers)):\n",
        "        for j in range(i + 1, len(numbers)):\n",
        "            if numbers[i] < numbers[j]:\n",
        "                numbers[i], numbers[j] = numbers[j], numbers[i]\n",
        "    return numbers\n",
        "\n",
        "numbers = [5, 3, 7, 9, 8, 4, 2]\n",
        "\n",
        "sorted_ascending = ascending_sort(numbers.copy())\n",
        "print(\"Ascending Order:\", sorted_ascending)\n",
        "\n",
        "sorted_descending = descending_sort(numbers.copy())\n",
        "print(\"Descending Order:\",sorted_descending)\n"
      ],
      "metadata": {
        "colab": {
          "base_uri": "https://localhost:8080/"
        },
        "id": "PP3w1XRjigEw",
        "outputId": "448a2259-94d2-4744-d76c-040776164962"
      },
      "execution_count": null,
      "outputs": [
        {
          "output_type": "stream",
          "name": "stdout",
          "text": [
            "Ascending Order: [2, 3, 4, 5, 7, 8, 9]\n",
            "Descending Order: [9, 8, 7, 5, 4, 3, 2]\n"
          ]
        }
      ]
    },
    {
      "cell_type": "code",
      "source": [
        "a=[1,2,3,4,5,6,7,8,9,10]\n",
        "c=int(input('enter the index number you have to find:'))\n",
        "for i in range(len(a)):\n",
        "  if a[i]==c:\n",
        "    print(i)\n",
        "  else:\n",
        "    None"
      ],
      "metadata": {
        "colab": {
          "base_uri": "https://localhost:8080/"
        },
        "id": "2m4QZWh6j23Y",
        "outputId": "bbf0499d-c7ae-45ed-9535-dc9fe18f8a0f"
      },
      "execution_count": null,
      "outputs": [
        {
          "output_type": "stream",
          "name": "stdout",
          "text": [
            "enter the index number you have to find:9\n",
            "8\n"
          ]
        }
      ]
    },
    {
      "cell_type": "code",
      "source": [
        "\n",
        "from collections import Counter\n",
        "a = [4, 5, 6, 4, 6, 7, 4, 2, 4, 8, 4]\n",
        "counter = Counter(a)\n",
        "most_frequent_element = counter.most_common(1)[0][0]\n",
        "print(most_frequent_element)\n"
      ],
      "metadata": {
        "colab": {
          "base_uri": "https://localhost:8080/"
        },
        "id": "BPUPr1q6mvDv",
        "outputId": "86f75e06-7050-4c52-c853-fc5d061f9189"
      },
      "execution_count": null,
      "outputs": [
        {
          "output_type": "stream",
          "name": "stdout",
          "text": [
            "4\n"
          ]
        }
      ]
    },
    {
      "cell_type": "code",
      "source": [
        "\n",
        "\n",
        "keys = ['Ten', 'Twenty', 'Thirty']\n",
        "values = [10, 20, 30]\n",
        "dictionary = {}\n",
        "dictionary.update(zip(keys, values))\n",
        "print(dictionary)\n"
      ],
      "metadata": {
        "id": "R6xy2NkloP4h"
      },
      "execution_count": null,
      "outputs": []
    },
    {
      "cell_type": "code",
      "source": [
        "a=['ram','tam','sam','babe','dum','hum','shyam','aagash','gvm','bankai']\n",
        "c1=0\n",
        "c2=0\n",
        "c3=0\n",
        "c4=0\n",
        "A=[]\n",
        "B=[]\n",
        "C=[]\n",
        "D=[]\n",
        "for i in a :\n",
        "  v=int(input(\"\"\" PRESS 1 FOR A:\n",
        "                        PRESS 2 FOR B:\n",
        "                        PRESS 3 FOR C:\n",
        "                        PRESS 4 FOR NOTA: \"\"\"))\n",
        "  if v==1:\n",
        "    c1+=1\n",
        "    A.append(i)\n",
        "  elif v==2:\n",
        "    c2+=1\n",
        "    B.append(i)\n",
        "  elif v==c3:\n",
        "    c3+=1\n",
        "    C.append(i)\n",
        "  elif v==c4:\n",
        "    c4+=1\n",
        "    D.append(i)\n",
        "\n",
        "x=max(c1,c2,c3,c4)\n",
        "if x==c1:\n",
        "  print(x)\n",
        "  print(A)\n",
        "if x==c2:\n",
        "  print(x)\n",
        "  print(B)\n",
        "if x==c3:\n",
        "  print(x)\n",
        "  print(C)\n",
        "if x==c4:\n",
        "  print(x)\n",
        "  print(D)\n",
        "\n",
        "\n",
        "\n"
      ],
      "metadata": {
        "colab": {
          "base_uri": "https://localhost:8080/",
          "height": 356
        },
        "id": "vMAkT_vxoRh_",
        "outputId": "02dce0a0-4ded-4f65-a0b8-c3deb833f9dd"
      },
      "execution_count": null,
      "outputs": [
        {
          "output_type": "error",
          "ename": "KeyboardInterrupt",
          "evalue": "Interrupted by user",
          "traceback": [
            "\u001b[0;31m---------------------------------------------------------------------------\u001b[0m",
            "\u001b[0;31mKeyboardInterrupt\u001b[0m                         Traceback (most recent call last)",
            "\u001b[0;32m<ipython-input-33-c7fc61265716>\u001b[0m in \u001b[0;36m<cell line: 10>\u001b[0;34m()\u001b[0m\n\u001b[1;32m      9\u001b[0m \u001b[0mD\u001b[0m\u001b[0;34m=\u001b[0m\u001b[0;34m[\u001b[0m\u001b[0;34m]\u001b[0m\u001b[0;34m\u001b[0m\u001b[0;34m\u001b[0m\u001b[0m\n\u001b[1;32m     10\u001b[0m \u001b[0;32mfor\u001b[0m \u001b[0mi\u001b[0m \u001b[0;32min\u001b[0m \u001b[0ma\u001b[0m \u001b[0;34m:\u001b[0m\u001b[0;34m\u001b[0m\u001b[0;34m\u001b[0m\u001b[0m\n\u001b[0;32m---> 11\u001b[0;31m   v=int(input(\"\"\" PRESS 1 FOR A:\n\u001b[0m\u001b[1;32m     12\u001b[0m                         \u001b[0mPRESS\u001b[0m \u001b[0;36m2\u001b[0m \u001b[0mFOR\u001b[0m \u001b[0mB\u001b[0m\u001b[0;34m:\u001b[0m\u001b[0;34m\u001b[0m\u001b[0;34m\u001b[0m\u001b[0m\n\u001b[1;32m     13\u001b[0m                         \u001b[0mPRESS\u001b[0m \u001b[0;36m3\u001b[0m \u001b[0mFOR\u001b[0m \u001b[0mC\u001b[0m\u001b[0;34m:\u001b[0m\u001b[0;34m\u001b[0m\u001b[0;34m\u001b[0m\u001b[0m\n",
            "\u001b[0;32m/usr/local/lib/python3.10/dist-packages/ipykernel/kernelbase.py\u001b[0m in \u001b[0;36mraw_input\u001b[0;34m(self, prompt)\u001b[0m\n\u001b[1;32m    849\u001b[0m                 \u001b[0;34m\"raw_input was called, but this frontend does not support input requests.\"\u001b[0m\u001b[0;34m\u001b[0m\u001b[0;34m\u001b[0m\u001b[0m\n\u001b[1;32m    850\u001b[0m             )\n\u001b[0;32m--> 851\u001b[0;31m         return self._input_request(str(prompt),\n\u001b[0m\u001b[1;32m    852\u001b[0m             \u001b[0mself\u001b[0m\u001b[0;34m.\u001b[0m\u001b[0m_parent_ident\u001b[0m\u001b[0;34m,\u001b[0m\u001b[0;34m\u001b[0m\u001b[0;34m\u001b[0m\u001b[0m\n\u001b[1;32m    853\u001b[0m             \u001b[0mself\u001b[0m\u001b[0;34m.\u001b[0m\u001b[0m_parent_header\u001b[0m\u001b[0;34m,\u001b[0m\u001b[0;34m\u001b[0m\u001b[0;34m\u001b[0m\u001b[0m\n",
            "\u001b[0;32m/usr/local/lib/python3.10/dist-packages/ipykernel/kernelbase.py\u001b[0m in \u001b[0;36m_input_request\u001b[0;34m(self, prompt, ident, parent, password)\u001b[0m\n\u001b[1;32m    893\u001b[0m             \u001b[0;32mexcept\u001b[0m \u001b[0mKeyboardInterrupt\u001b[0m\u001b[0;34m:\u001b[0m\u001b[0;34m\u001b[0m\u001b[0;34m\u001b[0m\u001b[0m\n\u001b[1;32m    894\u001b[0m                 \u001b[0;31m# re-raise KeyboardInterrupt, to truncate traceback\u001b[0m\u001b[0;34m\u001b[0m\u001b[0;34m\u001b[0m\u001b[0m\n\u001b[0;32m--> 895\u001b[0;31m                 \u001b[0;32mraise\u001b[0m \u001b[0mKeyboardInterrupt\u001b[0m\u001b[0;34m(\u001b[0m\u001b[0;34m\"Interrupted by user\"\u001b[0m\u001b[0;34m)\u001b[0m \u001b[0;32mfrom\u001b[0m \u001b[0;32mNone\u001b[0m\u001b[0;34m\u001b[0m\u001b[0;34m\u001b[0m\u001b[0m\n\u001b[0m\u001b[1;32m    896\u001b[0m             \u001b[0;32mexcept\u001b[0m \u001b[0mException\u001b[0m \u001b[0;32mas\u001b[0m \u001b[0me\u001b[0m\u001b[0;34m:\u001b[0m\u001b[0;34m\u001b[0m\u001b[0;34m\u001b[0m\u001b[0m\n\u001b[1;32m    897\u001b[0m                 \u001b[0mself\u001b[0m\u001b[0;34m.\u001b[0m\u001b[0mlog\u001b[0m\u001b[0;34m.\u001b[0m\u001b[0mwarning\u001b[0m\u001b[0;34m(\u001b[0m\u001b[0;34m\"Invalid Message:\"\u001b[0m\u001b[0;34m,\u001b[0m \u001b[0mexc_info\u001b[0m\u001b[0;34m=\u001b[0m\u001b[0;32mTrue\u001b[0m\u001b[0;34m)\u001b[0m\u001b[0;34m\u001b[0m\u001b[0;34m\u001b[0m\u001b[0m\n",
            "\u001b[0;31mKeyboardInterrupt\u001b[0m: Interrupted by user"
          ]
        }
      ]
    },
    {
      "cell_type": "code",
      "source": [
        "def money(mon):\n",
        "  rup=mon/83\n",
        "  print(rup)\n",
        "def temp(t):\n",
        "  f=(9/5*32)+t\n",
        "  print(t)\n",
        "def bmi(w,h):\n",
        "  bm=w/h*h\n",
        "  print(bm)\n",
        "def sip(p,r,tm):\n",
        "  si=(p*r*t)/100\n",
        "  print(si)\n",
        "\n",
        "mon=int(input('rupee : '))\n",
        "t=int(input('ente temp: '))\n",
        "w=int(input('enter weight: '))\n",
        "h=int(input('enter height in metre:'))\n",
        "p=int(input('enter principal amount:'))\n",
        "r=int(input(\"enter rate of interest: \"))\n",
        "tm=int(input('enter time: '))\n",
        "\n",
        "money(mon)\n",
        "temp(t)\n",
        "bmi(w,h)\n",
        "sip(p,r,tm)"
      ],
      "metadata": {
        "colab": {
          "base_uri": "https://localhost:8080/",
          "height": 356
        },
        "id": "6NjBLaJdrOXR",
        "outputId": "91c18e64-b884-43ab-c2c9-844fd3a45dd3"
      },
      "execution_count": null,
      "outputs": [
        {
          "output_type": "error",
          "ename": "KeyboardInterrupt",
          "evalue": "Interrupted by user",
          "traceback": [
            "\u001b[0;31m---------------------------------------------------------------------------\u001b[0m",
            "\u001b[0;31mKeyboardInterrupt\u001b[0m                         Traceback (most recent call last)",
            "\u001b[0;32m<ipython-input-35-4d844b785b3b>\u001b[0m in \u001b[0;36m<cell line: 14>\u001b[0;34m()\u001b[0m\n\u001b[1;32m     12\u001b[0m   \u001b[0mprint\u001b[0m\u001b[0;34m(\u001b[0m\u001b[0msi\u001b[0m\u001b[0;34m)\u001b[0m\u001b[0;34m\u001b[0m\u001b[0;34m\u001b[0m\u001b[0m\n\u001b[1;32m     13\u001b[0m \u001b[0;34m\u001b[0m\u001b[0m\n\u001b[0;32m---> 14\u001b[0;31m \u001b[0mmon\u001b[0m\u001b[0;34m=\u001b[0m\u001b[0mint\u001b[0m\u001b[0;34m(\u001b[0m\u001b[0minput\u001b[0m\u001b[0;34m(\u001b[0m\u001b[0;34m'rupee : '\u001b[0m\u001b[0;34m)\u001b[0m\u001b[0;34m)\u001b[0m\u001b[0;34m\u001b[0m\u001b[0;34m\u001b[0m\u001b[0m\n\u001b[0m\u001b[1;32m     15\u001b[0m \u001b[0mt\u001b[0m\u001b[0;34m=\u001b[0m\u001b[0mint\u001b[0m\u001b[0;34m(\u001b[0m\u001b[0minput\u001b[0m\u001b[0;34m(\u001b[0m\u001b[0;34m'ente temp: '\u001b[0m\u001b[0;34m)\u001b[0m\u001b[0;34m)\u001b[0m\u001b[0;34m\u001b[0m\u001b[0;34m\u001b[0m\u001b[0m\n\u001b[1;32m     16\u001b[0m \u001b[0mw\u001b[0m\u001b[0;34m=\u001b[0m\u001b[0mint\u001b[0m\u001b[0;34m(\u001b[0m\u001b[0minput\u001b[0m\u001b[0;34m(\u001b[0m\u001b[0;34m'enter weight: '\u001b[0m\u001b[0;34m)\u001b[0m\u001b[0;34m)\u001b[0m\u001b[0;34m\u001b[0m\u001b[0;34m\u001b[0m\u001b[0m\n",
            "\u001b[0;32m/usr/local/lib/python3.10/dist-packages/ipykernel/kernelbase.py\u001b[0m in \u001b[0;36mraw_input\u001b[0;34m(self, prompt)\u001b[0m\n\u001b[1;32m    849\u001b[0m                 \u001b[0;34m\"raw_input was called, but this frontend does not support input requests.\"\u001b[0m\u001b[0;34m\u001b[0m\u001b[0;34m\u001b[0m\u001b[0m\n\u001b[1;32m    850\u001b[0m             )\n\u001b[0;32m--> 851\u001b[0;31m         return self._input_request(str(prompt),\n\u001b[0m\u001b[1;32m    852\u001b[0m             \u001b[0mself\u001b[0m\u001b[0;34m.\u001b[0m\u001b[0m_parent_ident\u001b[0m\u001b[0;34m,\u001b[0m\u001b[0;34m\u001b[0m\u001b[0;34m\u001b[0m\u001b[0m\n\u001b[1;32m    853\u001b[0m             \u001b[0mself\u001b[0m\u001b[0;34m.\u001b[0m\u001b[0m_parent_header\u001b[0m\u001b[0;34m,\u001b[0m\u001b[0;34m\u001b[0m\u001b[0;34m\u001b[0m\u001b[0m\n",
            "\u001b[0;32m/usr/local/lib/python3.10/dist-packages/ipykernel/kernelbase.py\u001b[0m in \u001b[0;36m_input_request\u001b[0;34m(self, prompt, ident, parent, password)\u001b[0m\n\u001b[1;32m    893\u001b[0m             \u001b[0;32mexcept\u001b[0m \u001b[0mKeyboardInterrupt\u001b[0m\u001b[0;34m:\u001b[0m\u001b[0;34m\u001b[0m\u001b[0;34m\u001b[0m\u001b[0m\n\u001b[1;32m    894\u001b[0m                 \u001b[0;31m# re-raise KeyboardInterrupt, to truncate traceback\u001b[0m\u001b[0;34m\u001b[0m\u001b[0;34m\u001b[0m\u001b[0m\n\u001b[0;32m--> 895\u001b[0;31m                 \u001b[0;32mraise\u001b[0m \u001b[0mKeyboardInterrupt\u001b[0m\u001b[0;34m(\u001b[0m\u001b[0;34m\"Interrupted by user\"\u001b[0m\u001b[0;34m)\u001b[0m \u001b[0;32mfrom\u001b[0m \u001b[0;32mNone\u001b[0m\u001b[0;34m\u001b[0m\u001b[0;34m\u001b[0m\u001b[0m\n\u001b[0m\u001b[1;32m    896\u001b[0m             \u001b[0;32mexcept\u001b[0m \u001b[0mException\u001b[0m \u001b[0;32mas\u001b[0m \u001b[0me\u001b[0m\u001b[0;34m:\u001b[0m\u001b[0;34m\u001b[0m\u001b[0;34m\u001b[0m\u001b[0m\n\u001b[1;32m    897\u001b[0m                 \u001b[0mself\u001b[0m\u001b[0;34m.\u001b[0m\u001b[0mlog\u001b[0m\u001b[0;34m.\u001b[0m\u001b[0mwarning\u001b[0m\u001b[0;34m(\u001b[0m\u001b[0;34m\"Invalid Message:\"\u001b[0m\u001b[0;34m,\u001b[0m \u001b[0mexc_info\u001b[0m\u001b[0;34m=\u001b[0m\u001b[0;32mTrue\u001b[0m\u001b[0;34m)\u001b[0m\u001b[0;34m\u001b[0m\u001b[0;34m\u001b[0m\u001b[0m\n",
            "\u001b[0;31mKeyboardInterrupt\u001b[0m: Interrupted by user"
          ]
        }
      ]
    },
    {
      "cell_type": "code",
      "source": [
        "\n",
        "\n",
        "def segregate_list(input_list):\n",
        "  output_list = []\n",
        "  for element in input_list:\n",
        "    if element == 0:\n",
        "      output_list.append(0)\n",
        "    else:\n",
        "      output_list.append(1)\n",
        "  return output_list\n",
        "\n",
        "input_list = [0, 1, 0, 1, 1, 0, 1, 0, 1, 0]\n",
        "output_list = segregate_list(input_list)\n",
        "print(\"Input list:\", input_list)\n",
        "print(\"Output list:\", output_list)\n"
      ],
      "metadata": {
        "colab": {
          "base_uri": "https://localhost:8080/"
        },
        "id": "F7cKu0Mcyjg_",
        "outputId": "7104268e-ae12-46de-9a46-5614ec18239f"
      },
      "execution_count": null,
      "outputs": [
        {
          "output_type": "stream",
          "name": "stdout",
          "text": [
            "Input list: [0, 1, 0, 1, 1, 0, 1, 0, 1, 0]\n",
            "Output list: [0, 1, 0, 1, 1, 0, 1, 0, 1, 0]\n"
          ]
        }
      ]
    }
  ]
}